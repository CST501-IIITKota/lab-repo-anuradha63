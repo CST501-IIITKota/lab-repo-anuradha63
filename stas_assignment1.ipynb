{
 "cells": [
  {
   "cell_type": "code",
   "execution_count": 7,
   "id": "16a1be52-a629-4bca-b8b4-167a2eee1cb1",
   "metadata": {},
   "outputs": [
    {
     "name": "stdout",
     "output_type": "stream",
     "text": [
      "     id                                              name  host_id  \\\n",
      "0  2539                Clean & quiet apt home by the park     2787   \n",
      "1  2595                             Skylit Midtown Castle     2845   \n",
      "2  3647               THE VILLAGE OF HARLEM....NEW YORK !     4632   \n",
      "3  3831                   Cozy Entire Floor of Brownstone     4869   \n",
      "4  5022  Entire Apt: Spacious Studio/Loft by central park     7192   \n",
      "\n",
      "     host_name neighbourhood_group neighbourhood  latitude  longitude  \\\n",
      "0         John            Brooklyn    Kensington  40.64749  -73.97237   \n",
      "1     Jennifer           Manhattan       Midtown  40.75362  -73.98377   \n",
      "2    Elisabeth           Manhattan        Harlem  40.80902  -73.94190   \n",
      "3  LisaRoxanne            Brooklyn  Clinton Hill  40.68514  -73.95976   \n",
      "4        Laura           Manhattan   East Harlem  40.79851  -73.94399   \n",
      "\n",
      "         room_type  price  minimum_nights  number_of_reviews last_review  \\\n",
      "0     Private room    149               1                  9  2018-10-19   \n",
      "1  Entire home/apt    225               1                 45  2019-05-21   \n",
      "2     Private room    150               3                  0         NaN   \n",
      "3  Entire home/apt     89               1                270  2019-07-05   \n",
      "4  Entire home/apt     80              10                  9  2018-11-19   \n",
      "\n",
      "   reviews_per_month  calculated_host_listings_count  availability_365  \n",
      "0               0.21                               6               365  \n",
      "1               0.38                               2               355  \n",
      "2                NaN                               1               365  \n",
      "3               4.64                               1               194  \n",
      "4               0.10                               1                 0  \n",
      "<class 'pandas.core.frame.DataFrame'>\n",
      "RangeIndex: 48895 entries, 0 to 48894\n",
      "Data columns (total 16 columns):\n",
      " #   Column                          Non-Null Count  Dtype  \n",
      "---  ------                          --------------  -----  \n",
      " 0   id                              48895 non-null  int64  \n",
      " 1   name                            48879 non-null  object \n",
      " 2   host_id                         48895 non-null  int64  \n",
      " 3   host_name                       48874 non-null  object \n",
      " 4   neighbourhood_group             48895 non-null  object \n",
      " 5   neighbourhood                   48895 non-null  object \n",
      " 6   latitude                        48895 non-null  float64\n",
      " 7   longitude                       48895 non-null  float64\n",
      " 8   room_type                       48895 non-null  object \n",
      " 9   price                           48895 non-null  int64  \n",
      " 10  minimum_nights                  48895 non-null  int64  \n",
      " 11  number_of_reviews               48895 non-null  int64  \n",
      " 12  last_review                     38843 non-null  object \n",
      " 13  reviews_per_month               38843 non-null  float64\n",
      " 14  calculated_host_listings_count  48895 non-null  int64  \n",
      " 15  availability_365                48895 non-null  int64  \n",
      "dtypes: float64(3), int64(7), object(6)\n",
      "memory usage: 6.0+ MB\n",
      "None\n",
      "                 id       host_id      latitude     longitude         price  \\\n",
      "count  4.889500e+04  4.889500e+04  48895.000000  48895.000000  48895.000000   \n",
      "mean   1.901714e+07  6.762001e+07     40.728949    -73.952170    152.720687   \n",
      "std    1.098311e+07  7.861097e+07      0.054530      0.046157    240.154170   \n",
      "min    2.539000e+03  2.438000e+03     40.499790    -74.244420      0.000000   \n",
      "25%    9.471945e+06  7.822033e+06     40.690100    -73.983070     69.000000   \n",
      "50%    1.967728e+07  3.079382e+07     40.723070    -73.955680    106.000000   \n",
      "75%    2.915218e+07  1.074344e+08     40.763115    -73.936275    175.000000   \n",
      "max    3.648724e+07  2.743213e+08     40.913060    -73.712990  10000.000000   \n",
      "\n",
      "       minimum_nights  number_of_reviews  reviews_per_month  \\\n",
      "count    48895.000000       48895.000000       38843.000000   \n",
      "mean         7.029962          23.274466           1.373221   \n",
      "std         20.510550          44.550582           1.680442   \n",
      "min          1.000000           0.000000           0.010000   \n",
      "25%          1.000000           1.000000           0.190000   \n",
      "50%          3.000000           5.000000           0.720000   \n",
      "75%          5.000000          24.000000           2.020000   \n",
      "max       1250.000000         629.000000          58.500000   \n",
      "\n",
      "       calculated_host_listings_count  availability_365  \n",
      "count                    48895.000000      48895.000000  \n",
      "mean                         7.143982        112.781327  \n",
      "std                         32.952519        131.622289  \n",
      "min                          1.000000          0.000000  \n",
      "25%                          1.000000          0.000000  \n",
      "50%                          1.000000         45.000000  \n",
      "75%                          2.000000        227.000000  \n",
      "max                        327.000000        365.000000  \n"
     ]
    }
   ],
   "source": [
    "#Problem1\n",
    "import pandas as pd \n",
    "import numpy as np\n",
    "import matplotlib.pyplot as plt\n",
    "import seaborn as sns\n",
    "\n",
    "df = pd.read_csv(\"AB_NYC_2019.csv\")\n",
    "print(df.head())\n",
    "print(df.info())\n",
    "print(df.describe())"
   ]
  },
  {
   "cell_type": "code",
   "execution_count": 8,
   "id": "b006d653-c9b9-4460-80d1-24f24e207941",
   "metadata": {},
   "outputs": [
    {
     "name": "stdout",
     "output_type": "stream",
     "text": [
      "id                                    0\n",
      "name                                 16\n",
      "host_id                               0\n",
      "host_name                            21\n",
      "neighbourhood_group                   0\n",
      "neighbourhood                         0\n",
      "latitude                              0\n",
      "longitude                             0\n",
      "room_type                             0\n",
      "price                                 0\n",
      "minimum_nights                        0\n",
      "number_of_reviews                     0\n",
      "last_review                       10052\n",
      "reviews_per_month                 10052\n",
      "calculated_host_listings_count        0\n",
      "availability_365                      0\n",
      "dtype: int64\n",
      "id                                 0\n",
      "name                              16\n",
      "host_id                            0\n",
      "host_name                         21\n",
      "neighbourhood_group                0\n",
      "neighbourhood                      0\n",
      "latitude                           0\n",
      "longitude                          0\n",
      "room_type                          0\n",
      "price                              0\n",
      "minimum_nights                     0\n",
      "number_of_reviews                  0\n",
      "reviews_per_month                  0\n",
      "calculated_host_listings_count     0\n",
      "availability_365                   0\n",
      "dtype: int64\n"
     ]
    }
   ],
   "source": [
    "print(df.isnull().sum())\n",
    "df['reviews_per_month'] = df['reviews_per_month'].fillna(0)\n",
    "df = df.drop(columns=['last_review'])\n",
    "print(df.isnull().sum())"
   ]
  },
  {
   "cell_type": "code",
   "execution_count": 11,
   "id": "aa32e222-35fc-4f1b-90b0-3bd5bca89887",
   "metadata": {},
   "outputs": [
    {
     "data": {
      "image/png": "[encoded data removed]",
      "text/plain": [
       "<Figure size 1000x500 with 1 Axes>"
      ]
     },
     "metadata": {},
     "output_type": "display_data"
    }
   ],
   "source": [
    "plt.figure(figsize=(10,5))\n",
    "sns.boxplot(x=df['price'])\n",
    "plt.xlim(0, 1000) \n",
    "plt.title(\"Boxplot of Price\")\n",
    "plt.show()"
   ]
  },
  {
   "cell_type": "code",
   "execution_count": 37,
   "id": "2bd8e999-48e4-4f08-9707-7442cd5e9431",
   "metadata": {},
   "outputs": [
    {
     "name": "stdout",
     "output_type": "stream",
     "text": [
      "Q1: 69.0  Q3: 175.0  IQR: 106.0\n",
      "Lower Limit: -90.0  Upper Limit: 334.0\n"
     ]
    }
   ],
   "source": [
    "Q1 = df['price'].quantile(0.25)\n",
    "Q3 = df['price'].quantile(0.75)\n",
    "IQR = Q3 - Q1\n",
    "\n",
    "lower_limit = Q1 - 1.5 * IQR\n",
    "upper_limit = Q3 + 1.5 * IQR\n",
    "\n",
    "print(\"Q1:\", Q1, \" Q3:\", Q3, \" IQR:\", IQR)\n",
    "print(\"Lower Limit:\", lower_limit, \" Upper Limit:\", upper_limit)"
   ]
  },
  {
   "cell_type": "code",
   "execution_count": 38,
   "id": "0147bc7d-ae62-47b9-9682-6ce18c3a9d53",
   "metadata": {},
   "outputs": [
    {
     "name": "stdout",
     "output_type": "stream",
     "text": [
      "Original DataFrame Shape: (48895, 15)\n",
      "Cleaned DataFrame Shape: (45923, 15)\n"
     ]
    }
   ],
   "source": [
    "df_clean = df[(df['price'] >= lower_limit) & (df['price'] <= upper_limit)].copy()\n",
    "\n",
    "print(\"Original DataFrame Shape:\", df.shape)\n",
    "print(\"Cleaned DataFrame Shape:\", df_clean.shape)"
   ]
  },
  {
   "cell_type": "code",
   "execution_count": 15,
   "id": "8fbabbfb-e144-4afe-8365-fc186da6160a",
   "metadata": {},
   "outputs": [
    {
     "name": "stdout",
     "output_type": "stream",
     "text": [
      "Unique Hosts after cleaning: 11429\n"
     ]
    }
   ],
   "source": [
    "df[\"name\"] = df[\"name\"].str.strip().str.replace(r\"\\s+\", \" \", regex=True)\n",
    "df[\"host_name\"] = df[\"host_name\"].str.strip().str.replace(r\"\\s+\", \" \", regex=True)\n",
    "df[\"host_name\"] = df[\"host_name\"].str.title()\n",
    "df[\"host_name\"] = df[\"host_name\"].fillna(\"Unknown\")\n",
    "unique_hosts = df[\"host_name\"].nunique()\n",
    "print(\"Unique Hosts after cleaning:\", unique_hosts)"
   ]
  },
  {
   "cell_type": "code",
   "execution_count": 16,
   "id": "14d1665a-0645-4d0c-9846-b4821c3c68dd",
   "metadata": {},
   "outputs": [
    {
     "name": "stdout",
     "output_type": "stream",
     "text": [
      "Price - Mean: 119.97031988328288  Median: 100.0  Mode: 100\n",
      "Number of Reviews - Mean: 23.94266489558609  Median: 5.0  Mode: 0\n"
     ]
    }
   ],
   "source": [
    "#Probelm2\n",
    "import numpy as np\n",
    "from scipy import stats\n",
    "\n",
    "# Price central tendency\n",
    "price_mean = df_clean['price'].mean()\n",
    "price_median = df_clean['price'].median()\n",
    "price_mode = df_clean['price'].mode()[0]\n",
    "\n",
    "# Number of reviews central tendency\n",
    "reviews_mean = df_clean['number_of_reviews'].mean()\n",
    "reviews_median = df_clean['number_of_reviews'].median()\n",
    "reviews_mode = df_clean['number_of_reviews'].mode()[0]\n",
    "\n",
    "print(\"Price - Mean:\", price_mean, \" Median:\", price_median, \" Mode:\", price_mode)\n",
    "print(\"Number of Reviews - Mean:\", reviews_mean, \" Median:\", reviews_median, \" Mode:\", reviews_mode)"
   ]
  },
  {
   "cell_type": "code",
   "execution_count": 17,
   "id": "ccefcf30-04fd-4b6c-bb41-8d238603f901",
   "metadata": {},
   "outputs": [
    {
     "name": "stdout",
     "output_type": "stream",
     "text": [
      "The average price is 119.97, while the median price is 100.00.\n",
      "Since the data is skewed by expensive listings, the median better represents the typical Airbnb price.\n"
     ]
    }
   ],
   "source": [
    "print(f\"The average price is {price_mean:.2f}, while the median price is {price_median:.2f}.\")\n",
    "print(\"Since the data is skewed by expensive listings, the median better represents the typical Airbnb price.\")\n"
   ]
  },
  {
   "cell_type": "code",
   "execution_count": 18,
   "id": "41968a1e-b46e-4c30-aba6-9bf449220cd6",
   "metadata": {},
   "outputs": [
    {
     "data": {
      "image/png": "[encoded data removed]",
      "text/plain": [
       "<Figure size 1000x500 with 1 Axes>"
      ]
     },
     "metadata": {},
     "output_type": "display_data"
    }
   ],
   "source": [
    "plt.figure(figsize=(10,5))\n",
    "sns.histplot(df_clean['price'], bins=50, kde=True)\n",
    "plt.xlim(0, 500)   # limit to 500 for clarity (avoids extreme values dominating)\n",
    "plt.title(\"Distribution of Airbnb Prices\")\n",
    "plt.xlabel(\"Price\")\n",
    "plt.ylabel(\"Frequency\")\n",
    "plt.show()\n"
   ]
  },
  {
   "cell_type": "code",
   "execution_count": 19,
   "id": "f99a3e2e-fbe0-4558-9283-228ccd08b931",
   "metadata": {},
   "outputs": [
    {
     "data": {
      "image/png": "[encoded data removed]",
      "text/plain": [
       "<Figure size 1000x500 with 1 Axes>"
      ]
     },
     "metadata": {},
     "output_type": "display_data"
    }
   ],
   "source": [
    "plt.figure(figsize=(10,5))\n",
    "sns.boxplot(x='room_type', y='price', data=df_clean)\n",
    "plt.ylim(0, 500)   # limit to 500 for clearer view\n",
    "plt.title(\"Price Distribution by Room Type\")\n",
    "plt.xlabel(\"Room Type\")\n",
    "plt.ylabel(\"Price\")\n",
    "plt.show()"
   ]
  },
  {
   "cell_type": "code",
   "execution_count": 20,
   "id": "c52101db-7282-4ace-8a22-ca592733b28d",
   "metadata": {},
   "outputs": [
    {
     "name": "stdout",
     "output_type": "stream",
     "text": [
      "Population Mean: 6.639701239030551\n"
     ]
    },
    {
     "data": {
      "image/png": "[encoded data removed]",
      "text/plain": [
       "<Figure size 1000x500 with 1 Axes>"
      ]
     },
     "metadata": {},
     "output_type": "display_data"
    }
   ],
   "source": [
    "#Problem3\n",
    "population = df_clean['calculated_host_listings_count']\n",
    "\n",
    "# Population mean\n",
    "pop_mean = population.mean()\n",
    "print(\"Population Mean:\", pop_mean)\n",
    "\n",
    "# Plot histogram of population\n",
    "plt.figure(figsize=(10,5))\n",
    "sns.histplot(population, bins=50, kde=False)\n",
    "plt.title(\"Population Distribution: Calculated Host Listings Count\")\n",
    "plt.xlabel(\"Host Listings Count\")\n",
    "plt.ylabel(\"Frequency\")\n",
    "plt.show()"
   ]
  },
  {
   "cell_type": "code",
   "execution_count": 21,
   "id": "ce0194f0-6176-433d-8222-0bb155d20198",
   "metadata": {},
   "outputs": [
    {
     "name": "stdout",
     "output_type": "stream",
     "text": [
      "Mean of Sample Means: 6.65634\n"
     ]
    }
   ],
   "source": [
    "import random\n",
    "\n",
    "sample_means = []\n",
    "\n",
    "# Perform sampling 1000 times\n",
    "for i in range(1000):\n",
    "    sample = population.sample(n=50, replace=True)  # random sample of size 50\n",
    "    sample_means.append(sample.mean())\n",
    "\n",
    "# Convert to Series\n",
    "sample_means = pd.Series(sample_means)\n",
    "\n",
    "print(\"Mean of Sample Means:\", sample_means.mean())"
   ]
  },
  {
   "cell_type": "code",
   "execution_count": 22,
   "id": "9ae4a34c-9798-4e81-913b-8e02a3b95734",
   "metadata": {},
   "outputs": [
    {
     "data": {
      "image/png": "[encoded data removed]",
      "text/plain": [
       "<Figure size 1000x500 with 1 Axes>"
      ]
     },
     "metadata": {},
     "output_type": "display_data"
    }
   ],
   "source": [
    "plt.figure(figsize=(10,5))\n",
    "sns.histplot(sample_means, bins=50, kde=True)\n",
    "plt.title(\"Sampling Distribution of Sample Means (n=50)\")\n",
    "plt.xlabel(\"Sample Means\")\n",
    "plt.ylabel(\"Frequency\")\n",
    "plt.show()"
   ]
  },
  {
   "cell_type": "code",
   "execution_count": 23,
   "id": "e9e67174-e6b9-4a02-8a42-61b77130b6a8",
   "metadata": {},
   "outputs": [
    {
     "name": "stdout",
     "output_type": "stream",
     "text": [
      "Population Mean: 6.639701239030551\n",
      "Mean of Sample Means: 6.65634\n"
     ]
    }
   ],
   "source": [
    "print(\"Population Mean:\", pop_mean)\n",
    "print(\"Mean of Sample Means:\", sample_means.mean())"
   ]
  },
  {
   "cell_type": "code",
   "execution_count": 26,
   "id": "e22885ca-c8c9-4eee-b938-307f3dacb569",
   "metadata": {},
   "outputs": [
    {
     "name": "stdout",
     "output_type": "stream",
     "text": [
      "Number of listings in Manhattan: 19506\n",
      "Number of listings in Brooklyn: 19415\n"
     ]
    }
   ],
   "source": [
    "#Problem4\n",
    "manhattan_prices = df_clean[df_clean['neighbourhood_group'] == 'Manhattan']['price']\n",
    "brooklyn_prices = df_clean[df_clean['neighbourhood_group'] == 'Brooklyn']['price']\n",
    "\n",
    "print(\"Number of listings in Manhattan:\", len(manhattan_prices))\n",
    "print(\"Number of listings in Brooklyn:\", len(brooklyn_prices))"
   ]
  },
  {
   "cell_type": "code",
   "execution_count": 27,
   "id": "92b7368c-313b-40d2-a5bf-872870eeb511",
   "metadata": {},
   "outputs": [
    {
     "name": "stdout",
     "output_type": "stream",
     "text": [
      "t-statistic: 60.28275947954299\n",
      "p-value: 0.0\n"
     ]
    }
   ],
   "source": [
    "from scipy import stats\n",
    "\n",
    "# Perform t-test\n",
    "t_stat, p_value = stats.ttest_ind(manhattan_prices, brooklyn_prices, equal_var=False)  # Welch’s t-test\n",
    "print(\"t-statistic:\", t_stat)\n",
    "print(\"p-value:\", p_value)"
   ]
  },
  {
   "cell_type": "code",
   "execution_count": 29,
   "id": "ac747fdc-1295-4603-acfb-cd51fc1fbf71",
   "metadata": {},
   "outputs": [
    {
     "name": "stdout",
     "output_type": "stream",
     "text": [
      "Reject H0: There is Statistically significant difference\n"
     ]
    }
   ],
   "source": [
    "alpha = 0.05  # significance level\n",
    "\n",
    "if p_value < alpha:\n",
    "   print(\"Reject H0: There is Statistically significant difference\")\n",
    "else:\n",
    "    print(\"Fail to reject H0: There is NOT a statistically significant difference\")"
   ]
  },
  {
   "cell_type": "code",
   "execution_count": 30,
   "id": "bc993d72-65dc-4d86-879a-f52f22fa793f",
   "metadata": {},
   "outputs": [
    {
     "name": "stdout",
     "output_type": "stream",
     "text": [
      "Number of listings (Boolean Indexing): 384\n"
     ]
    },
    {
     "data": {
      "text/html": [
       "<div>\n",
       "<style scoped>\n",
       "    .dataframe tbody tr th:only-of-type {\n",
       "        vertical-align: middle;\n",
       "    }\n",
       "\n",
       "    .dataframe tbody tr th {\n",
       "        vertical-align: top;\n",
       "    }\n",
       "\n",
       "    .dataframe thead th {\n",
       "        text-align: right;\n",
       "    }\n",
       "</style>\n",
       "<table border=\"1\" class=\"dataframe\">\n",
       "  <thead>\n",
       "    <tr style=\"text-align: right;\">\n",
       "      <th></th>\n",
       "      <th>id</th>\n",
       "      <th>name</th>\n",
       "      <th>host_id</th>\n",
       "      <th>host_name</th>\n",
       "      <th>neighbourhood_group</th>\n",
       "      <th>neighbourhood</th>\n",
       "      <th>latitude</th>\n",
       "      <th>longitude</th>\n",
       "      <th>room_type</th>\n",
       "      <th>price</th>\n",
       "      <th>minimum_nights</th>\n",
       "      <th>number_of_reviews</th>\n",
       "      <th>reviews_per_month</th>\n",
       "      <th>calculated_host_listings_count</th>\n",
       "      <th>availability_365</th>\n",
       "    </tr>\n",
       "  </thead>\n",
       "  <tbody>\n",
       "    <tr>\n",
       "      <th>171</th>\n",
       "      <td>44096</td>\n",
       "      <td>Room With A View</td>\n",
       "      <td>190409</td>\n",
       "      <td>Waundell</td>\n",
       "      <td>Bronx</td>\n",
       "      <td>Highbridge</td>\n",
       "      <td>40.83232</td>\n",
       "      <td>-73.93184</td>\n",
       "      <td>Private room</td>\n",
       "      <td>40</td>\n",
       "      <td>1</td>\n",
       "      <td>219</td>\n",
       "      <td>2.04</td>\n",
       "      <td>3</td>\n",
       "      <td>353</td>\n",
       "    </tr>\n",
       "    <tr>\n",
       "      <th>207</th>\n",
       "      <td>54626</td>\n",
       "      <td>Cozy Bedroom By Yankee Stadium</td>\n",
       "      <td>190409</td>\n",
       "      <td>Waundell</td>\n",
       "      <td>Bronx</td>\n",
       "      <td>Highbridge</td>\n",
       "      <td>40.83075</td>\n",
       "      <td>-73.93058</td>\n",
       "      <td>Private room</td>\n",
       "      <td>45</td>\n",
       "      <td>1</td>\n",
       "      <td>138</td>\n",
       "      <td>1.45</td>\n",
       "      <td>3</td>\n",
       "      <td>323</td>\n",
       "    </tr>\n",
       "    <tr>\n",
       "      <th>433</th>\n",
       "      <td>149777</td>\n",
       "      <td>Artsy 1 Bedroom Apt. 20 Min To 42Nd Grand Cent...</td>\n",
       "      <td>716306</td>\n",
       "      <td>Dee, Dre &amp; Mama Shelley</td>\n",
       "      <td>Bronx</td>\n",
       "      <td>Woodlawn</td>\n",
       "      <td>40.89747</td>\n",
       "      <td>-73.86390</td>\n",
       "      <td>Entire home/apt</td>\n",
       "      <td>77</td>\n",
       "      <td>1</td>\n",
       "      <td>197</td>\n",
       "      <td>2.49</td>\n",
       "      <td>1</td>\n",
       "      <td>309</td>\n",
       "    </tr>\n",
       "    <tr>\n",
       "      <th>484</th>\n",
       "      <td>169306</td>\n",
       "      <td>Affordable &amp; Cozy</td>\n",
       "      <td>806214</td>\n",
       "      <td>Vanessa</td>\n",
       "      <td>Bronx</td>\n",
       "      <td>University Heights</td>\n",
       "      <td>40.85811</td>\n",
       "      <td>-73.90675</td>\n",
       "      <td>Private room</td>\n",
       "      <td>37</td>\n",
       "      <td>4</td>\n",
       "      <td>117</td>\n",
       "      <td>1.21</td>\n",
       "      <td>1</td>\n",
       "      <td>232</td>\n",
       "    </tr>\n",
       "    <tr>\n",
       "      <th>557</th>\n",
       "      <td>206071</td>\n",
       "      <td>Yankee Stadium Oasis 2 Stops To Manhattan!</td>\n",
       "      <td>12221</td>\n",
       "      <td>Lori</td>\n",
       "      <td>Bronx</td>\n",
       "      <td>Concourse Village</td>\n",
       "      <td>40.82802</td>\n",
       "      <td>-73.92039</td>\n",
       "      <td>Private room</td>\n",
       "      <td>50</td>\n",
       "      <td>3</td>\n",
       "      <td>258</td>\n",
       "      <td>2.70</td>\n",
       "      <td>2</td>\n",
       "      <td>276</td>\n",
       "    </tr>\n",
       "  </tbody>\n",
       "</table>\n",
       "</div>"
      ],
      "text/plain": [
       "         id                                               name  host_id  \\\n",
       "171   44096                                   Room With A View   190409   \n",
       "207   54626                     Cozy Bedroom By Yankee Stadium   190409   \n",
       "433  149777  Artsy 1 Bedroom Apt. 20 Min To 42Nd Grand Cent...   716306   \n",
       "484  169306                                  Affordable & Cozy   806214   \n",
       "557  206071         Yankee Stadium Oasis 2 Stops To Manhattan!    12221   \n",
       "\n",
       "                   host_name neighbourhood_group       neighbourhood  \\\n",
       "171                 Waundell               Bronx          Highbridge   \n",
       "207                 Waundell               Bronx          Highbridge   \n",
       "433  Dee, Dre & Mama Shelley               Bronx            Woodlawn   \n",
       "484                  Vanessa               Bronx  University Heights   \n",
       "557                     Lori               Bronx   Concourse Village   \n",
       "\n",
       "     latitude  longitude        room_type  price  minimum_nights  \\\n",
       "171  40.83232  -73.93184     Private room     40               1   \n",
       "207  40.83075  -73.93058     Private room     45               1   \n",
       "433  40.89747  -73.86390  Entire home/apt     77               1   \n",
       "484  40.85811  -73.90675     Private room     37               4   \n",
       "557  40.82802  -73.92039     Private room     50               3   \n",
       "\n",
       "     number_of_reviews  reviews_per_month  calculated_host_listings_count  \\\n",
       "171                219               2.04                               3   \n",
       "207                138               1.45                               3   \n",
       "433                197               2.49                               1   \n",
       "484                117               1.21                               1   \n",
       "557                258               2.70                               2   \n",
       "\n",
       "     availability_365  \n",
       "171               353  \n",
       "207               323  \n",
       "433               309  \n",
       "484               232  \n",
       "557               276  "
      ]
     },
     "execution_count": 30,
     "metadata": {},
     "output_type": "execute_result"
    }
   ],
   "source": [
    "#Problem 5\n",
    "bronx_filtered_1 = df_clean[\n",
    "    (df_clean['neighbourhood_group'] == 'Bronx') &\n",
    "    (df_clean['price'] < 100) &\n",
    "    (df_clean['number_of_reviews'] > 10)\n",
    "]\n",
    "\n",
    "print(\"Number of listings (Boolean Indexing):\", len(bronx_filtered_1))\n",
    "bronx_filtered_1.head()"
   ]
  },
  {
   "cell_type": "code",
   "execution_count": 32,
   "id": "1871fad4-7552-4f96-a71f-6088c520c0e2",
   "metadata": {},
   "outputs": [
    {
     "name": "stdout",
     "output_type": "stream",
     "text": [
      "Number of listings (Query): 384\n"
     ]
    },
    {
     "data": {
      "text/html": [
       "<div>\n",
       "<style scoped>\n",
       "    .dataframe tbody tr th:only-of-type {\n",
       "        vertical-align: middle;\n",
       "    }\n",
       "\n",
       "    .dataframe tbody tr th {\n",
       "        vertical-align: top;\n",
       "    }\n",
       "\n",
       "    .dataframe thead th {\n",
       "        text-align: right;\n",
       "    }\n",
       "</style>\n",
       "<table border=\"1\" class=\"dataframe\">\n",
       "  <thead>\n",
       "    <tr style=\"text-align: right;\">\n",
       "      <th></th>\n",
       "      <th>id</th>\n",
       "      <th>name</th>\n",
       "      <th>host_id</th>\n",
       "      <th>host_name</th>\n",
       "      <th>neighbourhood_group</th>\n",
       "      <th>neighbourhood</th>\n",
       "      <th>latitude</th>\n",
       "      <th>longitude</th>\n",
       "      <th>room_type</th>\n",
       "      <th>price</th>\n",
       "      <th>minimum_nights</th>\n",
       "      <th>number_of_reviews</th>\n",
       "      <th>reviews_per_month</th>\n",
       "      <th>calculated_host_listings_count</th>\n",
       "      <th>availability_365</th>\n",
       "    </tr>\n",
       "  </thead>\n",
       "  <tbody>\n",
       "    <tr>\n",
       "      <th>171</th>\n",
       "      <td>44096</td>\n",
       "      <td>Room With A View</td>\n",
       "      <td>190409</td>\n",
       "      <td>Waundell</td>\n",
       "      <td>Bronx</td>\n",
       "      <td>Highbridge</td>\n",
       "      <td>40.83232</td>\n",
       "      <td>-73.93184</td>\n",
       "      <td>Private room</td>\n",
       "      <td>40</td>\n",
       "      <td>1</td>\n",
       "      <td>219</td>\n",
       "      <td>2.04</td>\n",
       "      <td>3</td>\n",
       "      <td>353</td>\n",
       "    </tr>\n",
       "    <tr>\n",
       "      <th>207</th>\n",
       "      <td>54626</td>\n",
       "      <td>Cozy Bedroom By Yankee Stadium</td>\n",
       "      <td>190409</td>\n",
       "      <td>Waundell</td>\n",
       "      <td>Bronx</td>\n",
       "      <td>Highbridge</td>\n",
       "      <td>40.83075</td>\n",
       "      <td>-73.93058</td>\n",
       "      <td>Private room</td>\n",
       "      <td>45</td>\n",
       "      <td>1</td>\n",
       "      <td>138</td>\n",
       "      <td>1.45</td>\n",
       "      <td>3</td>\n",
       "      <td>323</td>\n",
       "    </tr>\n",
       "    <tr>\n",
       "      <th>433</th>\n",
       "      <td>149777</td>\n",
       "      <td>Artsy 1 Bedroom Apt. 20 Min To 42Nd Grand Cent...</td>\n",
       "      <td>716306</td>\n",
       "      <td>Dee, Dre &amp; Mama Shelley</td>\n",
       "      <td>Bronx</td>\n",
       "      <td>Woodlawn</td>\n",
       "      <td>40.89747</td>\n",
       "      <td>-73.86390</td>\n",
       "      <td>Entire home/apt</td>\n",
       "      <td>77</td>\n",
       "      <td>1</td>\n",
       "      <td>197</td>\n",
       "      <td>2.49</td>\n",
       "      <td>1</td>\n",
       "      <td>309</td>\n",
       "    </tr>\n",
       "    <tr>\n",
       "      <th>484</th>\n",
       "      <td>169306</td>\n",
       "      <td>Affordable &amp; Cozy</td>\n",
       "      <td>806214</td>\n",
       "      <td>Vanessa</td>\n",
       "      <td>Bronx</td>\n",
       "      <td>University Heights</td>\n",
       "      <td>40.85811</td>\n",
       "      <td>-73.90675</td>\n",
       "      <td>Private room</td>\n",
       "      <td>37</td>\n",
       "      <td>4</td>\n",
       "      <td>117</td>\n",
       "      <td>1.21</td>\n",
       "      <td>1</td>\n",
       "      <td>232</td>\n",
       "    </tr>\n",
       "    <tr>\n",
       "      <th>557</th>\n",
       "      <td>206071</td>\n",
       "      <td>Yankee Stadium Oasis 2 Stops To Manhattan!</td>\n",
       "      <td>12221</td>\n",
       "      <td>Lori</td>\n",
       "      <td>Bronx</td>\n",
       "      <td>Concourse Village</td>\n",
       "      <td>40.82802</td>\n",
       "      <td>-73.92039</td>\n",
       "      <td>Private room</td>\n",
       "      <td>50</td>\n",
       "      <td>3</td>\n",
       "      <td>258</td>\n",
       "      <td>2.70</td>\n",
       "      <td>2</td>\n",
       "      <td>276</td>\n",
       "    </tr>\n",
       "  </tbody>\n",
       "</table>\n",
       "</div>"
      ],
      "text/plain": [
       "         id                                               name  host_id  \\\n",
       "171   44096                                   Room With A View   190409   \n",
       "207   54626                     Cozy Bedroom By Yankee Stadium   190409   \n",
       "433  149777  Artsy 1 Bedroom Apt. 20 Min To 42Nd Grand Cent...   716306   \n",
       "484  169306                                  Affordable & Cozy   806214   \n",
       "557  206071         Yankee Stadium Oasis 2 Stops To Manhattan!    12221   \n",
       "\n",
       "                   host_name neighbourhood_group       neighbourhood  \\\n",
       "171                 Waundell               Bronx          Highbridge   \n",
       "207                 Waundell               Bronx          Highbridge   \n",
       "433  Dee, Dre & Mama Shelley               Bronx            Woodlawn   \n",
       "484                  Vanessa               Bronx  University Heights   \n",
       "557                     Lori               Bronx   Concourse Village   \n",
       "\n",
       "     latitude  longitude        room_type  price  minimum_nights  \\\n",
       "171  40.83232  -73.93184     Private room     40               1   \n",
       "207  40.83075  -73.93058     Private room     45               1   \n",
       "433  40.89747  -73.86390  Entire home/apt     77               1   \n",
       "484  40.85811  -73.90675     Private room     37               4   \n",
       "557  40.82802  -73.92039     Private room     50               3   \n",
       "\n",
       "     number_of_reviews  reviews_per_month  calculated_host_listings_count  \\\n",
       "171                219               2.04                               3   \n",
       "207                138               1.45                               3   \n",
       "433                197               2.49                               1   \n",
       "484                117               1.21                               1   \n",
       "557                258               2.70                               2   \n",
       "\n",
       "     availability_365  \n",
       "171               353  \n",
       "207               323  \n",
       "433               309  \n",
       "484               232  \n",
       "557               276  "
      ]
     },
     "execution_count": 32,
     "metadata": {},
     "output_type": "execute_result"
    }
   ],
   "source": [
    "bronx_filtered_2 = df_clean.query(\"neighbourhood_group == 'Bronx' and price < 100 and number_of_reviews > 10\")\n",
    "\n",
    "print(\"Number of listings (Query):\", len(bronx_filtered_2))\n",
    "bronx_filtered_2.head()"
   ]
  },
  {
   "cell_type": "code",
   "execution_count": 33,
   "id": "f91e1a82-82ae-475f-bb84-88ca23553a6d",
   "metadata": {},
   "outputs": [
    {
     "name": "stdout",
     "output_type": "stream",
     "text": [
      "                                      avg_price  total_reviews\n",
      "neighbourhood_group room_type                                 \n",
      "Bronx               Entire home/apt  112.195592          11442\n",
      "                    Private room      60.595679          16312\n",
      "                    Shared room       47.254237            431\n",
      "Brooklyn            Entire home/apt  148.202080         256928\n",
      "                    Private room      70.283443         213217\n",
      "                    Shared room       48.036496           5791\n",
      "Manhattan           Entire home/apt  181.688596         209705\n",
      "                    Private room      98.057700         208197\n",
      "                    Shared room       75.939785          10241\n",
      "Queens              Entire home/apt  131.328388          59646\n",
      "                    Private room      65.732319          93349\n",
      "                    Shared room       46.989691           2724\n",
      "Staten Island       Entire home/apt  121.089286           5852\n",
      "                    Private room      62.292553           5670\n",
      "                    Shared room       57.444444             14\n",
      "\n",
      "Most expensive on average: ('Manhattan', 'Entire home/apt') with avg price = 181.6885957145387\n"
     ]
    }
   ],
   "source": [
    "grouped = df_clean.groupby(['neighbourhood_group', 'room_type']).agg(\n",
    "    avg_price=('price', 'mean'),\n",
    "    total_reviews=('number_of_reviews', 'sum')\n",
    ")\n",
    "\n",
    "print(grouped)\n",
    "\n",
    "# Find the most expensive group\n",
    "most_expensive = grouped['avg_price'].idxmax()\n",
    "print(\"\\nMost expensive on average:\", most_expensive, \"with avg price =\", grouped['avg_price'].max())"
   ]
  },
  {
   "cell_type": "code",
   "execution_count": 39,
   "id": "87e38967-0737-4670-9e8b-83eb30b9bf55",
   "metadata": {
    "scrolled": true
   },
   "outputs": [
    {
     "name": "stdout",
     "output_type": "stream",
     "text": [
      "   availability_365 availability_category\n",
      "0               365                  High\n",
      "1               355                  High\n",
      "2               365                  High\n",
      "3               194                  High\n",
      "4                 0                   Low\n"
     ]
    }
   ],
   "source": [
    "def categorize_availability(days):\n",
    "    if days == 0:\n",
    "        return \"Low\"\n",
    "    elif 1 <= days <= 180:\n",
    "        return \"Medium\"\n",
    "    else:\n",
    "        return \"High\"\n",
    "\n",
    "\n",
    "df_clean['availability_category'] = df_clean['availability_365'].apply(categorize_availability)\n",
    "\n",
    "\n",
    "print(df_clean[['availability_365', 'availability_category']].head())"
   ]
  },
  {
   "cell_type": "code",
   "execution_count": 40,
   "id": "9b94c3a4-a997-4ab0-8c8a-dc11d168d0e5",
   "metadata": {},
   "outputs": [
    {
     "name": "stdout",
     "output_type": "stream",
     "text": [
      "   reviews_per_month  number_of_reviews  minimum_nights  review_score\n",
      "0               0.21                  9               1      0.945000\n",
      "1               0.38                 45               1      8.550000\n",
      "2               0.00                  0               3      0.000000\n",
      "3               4.64                270               1    626.400000\n",
      "4               0.10                  9              10      0.081818\n"
     ]
    }
   ],
   "source": [
    "df_clean.eval(\"review_score = (reviews_per_month * number_of_reviews) / (minimum_nights + 1)\", inplace=True)\n",
    "\n",
    "print(df_clean[['reviews_per_month', 'number_of_reviews', 'minimum_nights', 'review_score']].head())"
   ]
  }
 ],
 "metadata": {
  "kernelspec": {
   "display_name": "anaconda-panel-2023.05-py310",
   "language": "python",
   "name": "conda-env-anaconda-panel-2023.05-py310-py"
  },
  "language_info": {
   "codemirror_mode": {
    "name": "ipython",
    "version": 3
   },
   "file_extension": ".py",
   "mimetype": "text/x-python",
   "name": "python",
   "nbconvert_exporter": "python",
   "pygments_lexer": "ipython3",
   "version": "3.11.5"
  }
 },
 "nbformat": 4,
 "nbformat_minor": 5
}
